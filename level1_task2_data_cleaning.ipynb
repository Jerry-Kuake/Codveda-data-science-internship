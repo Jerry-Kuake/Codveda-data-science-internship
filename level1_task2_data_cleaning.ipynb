{
 "cells": [
  {
   "cell_type": "markdown",
   "id": "85bf707e",
   "metadata": {},
   "source": [
    "# Task 2: Data Cleaning & Preprocessing\n",
    "Dataset: House Prediction"
   ]
  },
  {
   "cell_type": "code",
   "execution_count": null,
   "id": "99d49eab",
   "metadata": {},
   "outputs": [],
   "source": [
    "import pandas as pd\n",
    "import numpy as np\n",
    "import seaborn as sns\n",
    "import openpyxl\n",
    "import matplotlib.pyplot as plt\n",
    "from sklearn.preprocessing import StandardScaler\n"
   ]
  },
  {
   "cell_type": "markdown",
   "id": "4635bb9e",
   "metadata": {},
   "source": [
    "Load Dataset"
   ]
  },
  {
   "cell_type": "code",
   "execution_count": 14,
   "id": "7d4bdef2",
   "metadata": {},
   "outputs": [
    {
     "name": "stdout",
     "output_type": "stream",
     "text": [
      "First 5 rows of dataset:\n",
      "  0.00632  18.00   2.310  0  0.5380  6.5750  65.20  4.0900   1  296.0  15.30 396.90   4.98  24.00\n",
      "0   0.02731   0.00   7.070  0  0.4690  6.4210  78...                                             \n",
      "1   0.02729   0.00   7.070  0  0.4690  7.1850  61...                                             \n",
      "2   0.03237   0.00   2.180  0  0.4580  6.9980  45...                                             \n",
      "3   0.06905   0.00   2.180  0  0.4580  7.1470  54...                                             \n",
      "4   0.02985   0.00   2.180  0  0.4580  6.4300  58...                                             \n",
      "\n",
      " Dataset Info:\n",
      "<class 'pandas.core.frame.DataFrame'>\n",
      "RangeIndex: 505 entries, 0 to 504\n",
      "Data columns (total 1 columns):\n",
      " #   Column                                                                                            Non-Null Count  Dtype \n",
      "---  ------                                                                                            --------------  ----- \n",
      " 0    0.00632  18.00   2.310  0  0.5380  6.5750  65.20  4.0900   1  296.0  15.30 396.90   4.98  24.00  505 non-null    object\n",
      "dtypes: object(1)\n",
      "memory usage: 4.1+ KB\n",
      "None\n",
      "\n",
      " Missing Values:\n",
      "0.00632  18.00   2.310  0  0.5380  6.5750  65.20  4.0900   1  296.0  15.30 396.90   4.98  24.00    0\n",
      "dtype: int64\n"
     ]
    }
   ],
   "source": [
    "import pandas as pd\n",
    "\n",
    "file_path = r\"C:\\Users\\user\\Desktop\\level1_task2_data_cleaning_and_Preprocessing\\house Prediction DataSet.csv\"\n",
    "df = pd.read_csv(file_path)\n",
    "\n",
    "print(\"First 5 rows of dataset:\")\n",
    "print(df.head())\n",
    "\n",
    "print(\"\\n Dataset Info:\")\n",
    "print(df.info())\n",
    "\n",
    "print(\"\\n Missing Values:\")\n",
    "print(df.isnull().sum())\n"
   ]
  },
  {
   "cell_type": "markdown",
   "id": "30480750",
   "metadata": {},
   "source": [
    "Handle Missing Data"
   ]
  },
  {
   "cell_type": "code",
   "execution_count": 16,
   "id": "b86a0335",
   "metadata": {},
   "outputs": [
    {
     "name": "stdout",
     "output_type": "stream",
     "text": [
      "\n",
      " Missing values handled!\n",
      "0.00632  18.00   2.310  0  0.5380  6.5750  65.20  4.0900   1  296.0  15.30 396.90   4.98  24.00    0\n",
      "dtype: int64\n"
     ]
    },
    {
     "name": "stderr",
     "output_type": "stream",
     "text": [
      "C:\\Users\\user\\AppData\\Local\\Temp\\ipykernel_25388\\460250042.py:9: FutureWarning: A value is trying to be set on a copy of a DataFrame or Series through chained assignment using an inplace method.\n",
      "The behavior will change in pandas 3.0. This inplace method will never work because the intermediate object on which we are setting values always behaves as a copy.\n",
      "\n",
      "For example, when doing 'df[col].method(value, inplace=True)', try using 'df.method({col: value}, inplace=True)' or df[col] = df[col].method(value) instead, to perform the operation inplace on the original object.\n",
      "\n",
      "\n",
      "  df[col].fillna(df[col].mode()[0], inplace=True)\n"
     ]
    }
   ],
   "source": [
    "# Strategy: \n",
    "# - Numeric → fill with median\n",
    "# - Categorical → fill with mode (most frequent)\n",
    "\n",
    "for col in df.columns:\n",
    "    if df[col].dtype in [\"int64\", \"float64\"]:\n",
    "        df[col].fillna(df[col].median(), inplace=True)\n",
    "    else:\n",
    "        df[col].fillna(df[col].mode()[0], inplace=True)\n",
    "\n",
    "print(\"\\n Missing values handled!\")\n",
    "print(df.isnull().sum())\n"
   ]
  },
  {
   "cell_type": "markdown",
   "id": "476305c9",
   "metadata": {},
   "source": [
    "Detect & Remove Outliers"
   ]
  },
  {
   "cell_type": "code",
   "execution_count": 17,
   "id": "aab2c02d",
   "metadata": {},
   "outputs": [
    {
     "name": "stdout",
     "output_type": "stream",
     "text": [
      "\n",
      " Outliers removed using IQR method\n"
     ]
    }
   ],
   "source": [
    "# Let's use IQR method for numerical columns\n",
    "num_cols = df.select_dtypes(include=[\"int64\", \"float64\"]).columns\n",
    "\n",
    "for col in num_cols:\n",
    "    Q1 = df[col].quantile(0.25)\n",
    "    Q3 = df[col].quantile(0.75)\n",
    "    IQR = Q3 - Q1\n",
    "    lower = Q1 - 1.5 * IQR\n",
    "    upper = Q3 + 1.5 * IQR\n",
    "    df = df[(df[col] >= lower) & (df[col] <= upper)]\n",
    "\n",
    "print(\"\\n Outliers removed using IQR method\")\n"
   ]
  },
  {
   "cell_type": "markdown",
   "id": "5c0a889b",
   "metadata": {},
   "source": [
    "Encode Categorical Variables"
   ]
  },
  {
   "cell_type": "code",
   "execution_count": 18,
   "id": "6aa11491",
   "metadata": {},
   "outputs": [
    {
     "name": "stdout",
     "output_type": "stream",
     "text": [
      "\n",
      " Categorical features encoded\n",
      "   0.00632  18.00   2.310  0  0.5380  6.5750  65.20  4.0900   1  296.0  15.30 396.90   4.98  24.00_ 0.01096  55.00   2.250  0  0.3890  6.4530  31.90  7.3073   1  300.0  15.30 394.72   8.23  22.00  \\\n",
      "0                                              False                                                                                                                                                  \n",
      "1                                              False                                                                                                                                                  \n",
      "2                                              False                                                                                                                                                  \n",
      "3                                              False                                                                                                                                                  \n",
      "4                                              False                                                                                                                                                  \n",
      "\n",
      "   0.00632  18.00   2.310  0  0.5380  6.5750  65.20  4.0900   1  296.0  15.30 396.90   4.98  24.00_ 0.01301  35.00   1.520  0  0.4420  7.2410  49.30  7.0379   1  284.0  15.50 394.74   5.49  32.70  \\\n",
      "0                                              False                                                                                                                                                  \n",
      "1                                              False                                                                                                                                                  \n",
      "2                                              False                                                                                                                                                  \n",
      "3                                              False                                                                                                                                                  \n",
      "4                                              False                                                                                                                                                  \n",
      "\n",
      "   0.00632  18.00   2.310  0  0.5380  6.5750  65.20  4.0900   1  296.0  15.30 396.90   4.98  24.00_ 0.01311  90.00   1.220  0  0.4030  7.2490  21.90  8.6966   5  226.0  17.90 395.93   4.81  35.40  \\\n",
      "0                                              False                                                                                                                                                  \n",
      "1                                              False                                                                                                                                                  \n",
      "2                                              False                                                                                                                                                  \n",
      "3                                              False                                                                                                                                                  \n",
      "4                                              False                                                                                                                                                  \n",
      "\n",
      "   0.00632  18.00   2.310  0  0.5380  6.5750  65.20  4.0900   1  296.0  15.30 396.90   4.98  24.00_ 0.01360  75.00   4.000  0  0.4100  5.8880  47.60  7.3197   3  469.0  21.10 396.90  14.80  18.90  \\\n",
      "0                                              False                                                                                                                                                  \n",
      "1                                              False                                                                                                                                                  \n",
      "2                                              False                                                                                                                                                  \n",
      "3                                              False                                                                                                                                                  \n",
      "4                                              False                                                                                                                                                  \n",
      "\n",
      "   0.00632  18.00   2.310  0  0.5380  6.5750  65.20  4.0900   1  296.0  15.30 396.90   4.98  24.00_ 0.01381  80.00   0.460  0  0.4220  7.8750  32.00  5.6484   4  255.0  14.40 394.23   2.97  50.00  \\\n",
      "0                                              False                                                                                                                                                  \n",
      "1                                              False                                                                                                                                                  \n",
      "2                                              False                                                                                                                                                  \n",
      "3                                              False                                                                                                                                                  \n",
      "4                                              False                                                                                                                                                  \n",
      "\n",
      "   0.00632  18.00   2.310  0  0.5380  6.5750  65.20  4.0900   1  296.0  15.30 396.90   4.98  24.00_ 0.01432 100.00   1.320  0  0.4110  6.8160  40.50  8.3248   5  256.0  15.10 392.90   3.95  31.60  \\\n",
      "0                                              False                                                                                                                                                  \n",
      "1                                              False                                                                                                                                                  \n",
      "2                                              False                                                                                                                                                  \n",
      "3                                              False                                                                                                                                                  \n",
      "4                                              False                                                                                                                                                  \n",
      "\n",
      "   0.00632  18.00   2.310  0  0.5380  6.5750  65.20  4.0900   1  296.0  15.30 396.90   4.98  24.00_ 0.01439  60.00   2.930  0  0.4010  6.6040  18.80  6.2196   1  265.0  15.60 376.70   4.38  29.10  \\\n",
      "0                                              False                                                                                                                                                  \n",
      "1                                              False                                                                                                                                                  \n",
      "2                                              False                                                                                                                                                  \n",
      "3                                              False                                                                                                                                                  \n",
      "4                                              False                                                                                                                                                  \n",
      "\n",
      "   0.00632  18.00   2.310  0  0.5380  6.5750  65.20  4.0900   1  296.0  15.30 396.90   4.98  24.00_ 0.01501  80.00   2.010  0  0.4350  6.6350  29.70  8.3440   4  280.0  17.00 390.94   5.99  24.50  \\\n",
      "0                                              False                                                                                                                                                  \n",
      "1                                              False                                                                                                                                                  \n",
      "2                                              False                                                                                                                                                  \n",
      "3                                              False                                                                                                                                                  \n",
      "4                                              False                                                                                                                                                  \n",
      "\n",
      "   0.00632  18.00   2.310  0  0.5380  6.5750  65.20  4.0900   1  296.0  15.30 396.90   4.98  24.00_ 0.01501  90.00   1.210  1  0.4010  7.9230  24.80  5.8850   1  198.0  13.60 395.52   3.16  50.00  \\\n",
      "0                                              False                                                                                                                                                  \n",
      "1                                              False                                                                                                                                                  \n",
      "2                                              False                                                                                                                                                  \n",
      "3                                              False                                                                                                                                                  \n",
      "4                                              False                                                                                                                                                  \n",
      "\n",
      "   0.00632  18.00   2.310  0  0.5380  6.5750  65.20  4.0900   1  296.0  15.30 396.90   4.98  24.00_ 0.01538  90.00   3.750  0  0.3940  7.4540  34.20  6.3361   3  244.0  15.90 386.34   3.11  44.00  \\\n",
      "0                                              False                                                                                                                                                  \n",
      "1                                              False                                                                                                                                                  \n",
      "2                                              False                                                                                                                                                  \n",
      "3                                              False                                                                                                                                                  \n",
      "4                                              False                                                                                                                                                  \n",
      "\n",
      "   ...  \\\n",
      "0  ...   \n",
      "1  ...   \n",
      "2  ...   \n",
      "3  ...   \n",
      "4  ...   \n",
      "\n",
      "   0.00632  18.00   2.310  0  0.5380  6.5750  65.20  4.0900   1  296.0  15.30 396.90   4.98  24.00_25.94060   0.00  18.100  0  0.6790  5.3040  89.10  1.6475  24  666.0  20.20 127.36  26.64  10.40  \\\n",
      "0                                              False                                                                                                                                                  \n",
      "1                                              False                                                                                                                                                  \n",
      "2                                              False                                                                                                                                                  \n",
      "3                                              False                                                                                                                                                  \n",
      "4                                              False                                                                                                                                                  \n",
      "\n",
      "   0.00632  18.00   2.310  0  0.5380  6.5750  65.20  4.0900   1  296.0  15.30 396.90   4.98  24.00_28.65580   0.00  18.100  0  0.5970  5.1550 100.00  1.5894  24  666.0  20.20 210.97  20.08  16.30  \\\n",
      "0                                              False                                                                                                                                                  \n",
      "1                                              False                                                                                                                                                  \n",
      "2                                              False                                                                                                                                                  \n",
      "3                                              False                                                                                                                                                  \n",
      "4                                              False                                                                                                                                                  \n",
      "\n",
      "   0.00632  18.00   2.310  0  0.5380  6.5750  65.20  4.0900   1  296.0  15.30 396.90   4.98  24.00_37.66190   0.00  18.100  0  0.6790  6.2020  78.70  1.8629  24  666.0  20.20  18.82  14.52  10.90  \\\n",
      "0                                              False                                                                                                                                                  \n",
      "1                                              False                                                                                                                                                  \n",
      "2                                              False                                                                                                                                                  \n",
      "3                                              False                                                                                                                                                  \n",
      "4                                              False                                                                                                                                                  \n",
      "\n",
      "   0.00632  18.00   2.310  0  0.5380  6.5750  65.20  4.0900   1  296.0  15.30 396.90   4.98  24.00_38.35180   0.00  18.100  0  0.6930  5.4530 100.00  1.4896  24  666.0  20.20 396.90  30.59   5.00  \\\n",
      "0                                              False                                                                                                                                                  \n",
      "1                                              False                                                                                                                                                  \n",
      "2                                              False                                                                                                                                                  \n",
      "3                                              False                                                                                                                                                  \n",
      "4                                              False                                                                                                                                                  \n",
      "\n",
      "   0.00632  18.00   2.310  0  0.5380  6.5750  65.20  4.0900   1  296.0  15.30 396.90   4.98  24.00_41.52920   0.00  18.100  0  0.6930  5.5310  85.40  1.6074  24  666.0  20.20 329.46  27.38   8.50  \\\n",
      "0                                              False                                                                                                                                                  \n",
      "1                                              False                                                                                                                                                  \n",
      "2                                              False                                                                                                                                                  \n",
      "3                                              False                                                                                                                                                  \n",
      "4                                              False                                                                                                                                                  \n",
      "\n",
      "   0.00632  18.00   2.310  0  0.5380  6.5750  65.20  4.0900   1  296.0  15.30 396.90   4.98  24.00_45.74610   0.00  18.100  0  0.6930  4.5190 100.00  1.6582  24  666.0  20.20  88.27  36.98   7.00  \\\n",
      "0                                              False                                                                                                                                                  \n",
      "1                                              False                                                                                                                                                  \n",
      "2                                              False                                                                                                                                                  \n",
      "3                                              False                                                                                                                                                  \n",
      "4                                              False                                                                                                                                                  \n",
      "\n",
      "   0.00632  18.00   2.310  0  0.5380  6.5750  65.20  4.0900   1  296.0  15.30 396.90   4.98  24.00_51.13580   0.00  18.100  0  0.5970  5.7570 100.00  1.4130  24  666.0  20.20   2.60  10.11  15.00  \\\n",
      "0                                              False                                                                                                                                                  \n",
      "1                                              False                                                                                                                                                  \n",
      "2                                              False                                                                                                                                                  \n",
      "3                                              False                                                                                                                                                  \n",
      "4                                              False                                                                                                                                                  \n",
      "\n",
      "   0.00632  18.00   2.310  0  0.5380  6.5750  65.20  4.0900   1  296.0  15.30 396.90   4.98  24.00_67.92080   0.00  18.100  0  0.6930  5.6830 100.00  1.4254  24  666.0  20.20 384.97  22.98   5.00  \\\n",
      "0                                              False                                                                                                                                                  \n",
      "1                                              False                                                                                                                                                  \n",
      "2                                              False                                                                                                                                                  \n",
      "3                                              False                                                                                                                                                  \n",
      "4                                              False                                                                                                                                                  \n",
      "\n",
      "   0.00632  18.00   2.310  0  0.5380  6.5750  65.20  4.0900   1  296.0  15.30 396.90   4.98  24.00_73.53410   0.00  18.100  0  0.6790  5.9570 100.00  1.8026  24  666.0  20.20  16.45  20.62   8.80  \\\n",
      "0                                              False                                                                                                                                                  \n",
      "1                                              False                                                                                                                                                  \n",
      "2                                              False                                                                                                                                                  \n",
      "3                                              False                                                                                                                                                  \n",
      "4                                              False                                                                                                                                                  \n",
      "\n",
      "   0.00632  18.00   2.310  0  0.5380  6.5750  65.20  4.0900   1  296.0  15.30 396.90   4.98  24.00_88.97620   0.00  18.100  0  0.6710  6.9680  91.90  1.4165  24  666.0  20.20 396.90  17.21  10.40  \n",
      "0                                              False                                                                                                                                                 \n",
      "1                                              False                                                                                                                                                 \n",
      "2                                              False                                                                                                                                                 \n",
      "3                                              False                                                                                                                                                 \n",
      "4                                              False                                                                                                                                                 \n",
      "\n",
      "[5 rows x 504 columns]\n"
     ]
    }
   ],
   "source": [
    "# Convert categorical to numerical using One-Hot Encoding\n",
    "cat_cols = df.select_dtypes(include=[\"object\"]).columns\n",
    "df = pd.get_dummies(df, columns=cat_cols, drop_first=True)\n",
    "\n",
    "print(\"\\n Categorical features encoded\")\n",
    "print(df.head())"
   ]
  },
  {
   "cell_type": "markdown",
   "id": "1412883a",
   "metadata": {},
   "source": [
    "Normalize or Standardize Numerical Data"
   ]
  },
  {
   "cell_type": "code",
   "execution_count": 8,
   "id": "a97e4a9c",
   "metadata": {},
   "outputs": [
    {
     "name": "stdout",
     "output_type": "stream",
     "text": [
      "Numeric columns: Index([], dtype='object')\n",
      "\n",
      " No numeric columns found to scale\n"
     ]
    }
   ],
   "source": [
    "# Identify numeric columns\n",
    "num_cols = df.select_dtypes(include=['float64', 'int64']).columns\n",
    "print(\"Numeric columns:\", num_cols)\n",
    "\n",
    "# Scale only if numeric columns exist\n",
    "from sklearn.preprocessing import StandardScaler\n",
    "\n",
    "if len(num_cols) > 0:\n",
    "    scaler = StandardScaler()\n",
    "    df[num_cols] = scaler.fit_transform(df[num_cols])\n",
    "    print(\"\\n Numerical features standardized\")\n",
    "else:\n",
    "    print(\"\\n No numeric columns found to scale\")\n",
    "\n"
   ]
  },
  {
   "cell_type": "markdown",
   "id": "450555e7",
   "metadata": {},
   "source": [
    "Save Cleaned Dataset"
   ]
  },
  {
   "cell_type": "code",
   "execution_count": 22,
   "id": "41e88b46",
   "metadata": {},
   "outputs": [
    {
     "name": "stdout",
     "output_type": "stream",
     "text": [
      "\n",
      " Cleaned dataset saved as 'house_prediction_cleaned.csv'\n"
     ]
    }
   ],
   "source": [
    "# Save cleaned dataset\n",
    "df.to_csv(\"house_prediction_cleaned.csv\", index=False)\n",
    "print(\"\\n Cleaned dataset saved as 'house_prediction_cleaned.csv'\")\n"
   ]
  }
 ],
 "metadata": {
  "kernelspec": {
   "display_name": "base",
   "language": "python",
   "name": "python3"
  },
  "language_info": {
   "codemirror_mode": {
    "name": "ipython",
    "version": 3
   },
   "file_extension": ".py",
   "mimetype": "text/x-python",
   "name": "python",
   "nbconvert_exporter": "python",
   "pygments_lexer": "ipython3",
   "version": "3.12.7"
  }
 },
 "nbformat": 4,
 "nbformat_minor": 5
}
